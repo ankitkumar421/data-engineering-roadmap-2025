{
 "cells": [
  {
   "cell_type": "code",
   "execution_count": null,
   "id": "423388fd-3658-48b0-9d80-8daac2a56a8b",
   "metadata": {},
   "outputs": [],
   "source": [
    "from pyspark.sql import SparkSession\n",
    "\n",
    "spark = SparkSession.builder \\\n",
    "    .appName(\"Week3_Day4_PySpark_Window_Functions\") \\\n",
    "    .getOrCreate()\n",
    "\n",
    "print(\"✅ Spark Session Created\")"
   ]
  }
 ],
 "metadata": {
  "kernelspec": {
   "display_name": "Python 3 (ipykernel)",
   "language": "python",
   "name": "python3"
  },
  "language_info": {
   "codemirror_mode": {
    "name": "ipython",
    "version": 3
   },
   "file_extension": ".py",
   "mimetype": "text/x-python",
   "name": "python",
   "nbconvert_exporter": "python",
   "pygments_lexer": "ipython3",
   "version": "3.11.6"
  }
 },
 "nbformat": 4,
 "nbformat_minor": 5
}

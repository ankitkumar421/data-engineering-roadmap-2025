{
 "cells": [
  {
   "cell_type": "code",
   "execution_count": 2,
   "id": "835807f4-821f-4418-bbb5-3a15b1d20aed",
   "metadata": {},
   "outputs": [
    {
     "name": "stdout",
     "output_type": "stream",
     "text": [
      "✅ Spark Session Active\n"
     ]
    }
   ],
   "source": [
    "# Week 3 - Day 1: Advanced PySpark Optimizations\n",
    "#**Objective:** Learn about partitioning, caching, and how Spark optimizes execution.\n",
    "\n",
    "from pyspark.sql import SparkSession\n",
    "\n",
    "# Creating or reusing an existing Spark session\n",
    "spark = SparkSession.builder \\\n",
    "    .appName(\"Week3_Day1_Optimizations\") \\\n",
    "    .getOrCreate()\n",
    "\n",
    "print(\"✅ Spark Session Active\")"
   ]
  },
  {
   "cell_type": "code",
   "execution_count": 3,
   "id": "53cc823a-ae77-423e-bf3b-09321c848b48",
   "metadata": {},
   "outputs": [
    {
     "name": "stdout",
     "output_type": "stream",
     "text": [
      "+---+-------------------+\n",
      "| id|              value|\n",
      "+---+-------------------+\n",
      "|  0| 0.5132871941508156|\n",
      "|  1|0.20142071738666545|\n",
      "|  2|0.09755448488351526|\n",
      "|  3| 0.2506853995880579|\n",
      "|  4| 0.2881690899273799|\n",
      "+---+-------------------+\n",
      "only showing top 5 rows\n",
      "\n",
      "Total rows: 1000000\n"
     ]
    }
   ],
   "source": [
    "from pyspark.sql.functions import rand\n",
    "\n",
    "# Generate a sample dataset with 1 million rows\n",
    "df = spark.range(0, 1_000_000).withColumn(\"value\", rand())\n",
    "\n",
    "df.show(5)\n",
    "print(\"Total rows:\", df.count())b"
   ]
  },
  {
   "cell_type": "code",
   "execution_count": 4,
   "id": "f0a98a1f-c95a-4a60-9680-0f6c1b3a8588",
   "metadata": {},
   "outputs": [
    {
     "name": "stdout",
     "output_type": "stream",
     "text": [
      "Default number of partitions: 8\n"
     ]
    }
   ],
   "source": [
    "print(\"Default number of partitions:\", df.rdd.getNumPartitions())"
   ]
  },
  {
   "cell_type": "code",
   "execution_count": 5,
   "id": "8b013b95-b66d-4d5d-8e1f-a4d3d74adc24",
   "metadata": {},
   "outputs": [
    {
     "name": "stdout",
     "output_type": "stream",
     "text": [
      "After repartitioning: 8\n"
     ]
    }
   ],
   "source": [
    "df_repartitioned = df.repartition(8)\n",
    "print(\"After repartitioning:\", df_repartitioned.rdd.getNumPartitions())"
   ]
  },
  {
   "cell_type": "code",
   "execution_count": 6,
   "id": "6b24e94d-053e-48a6-b61d-ec9a2a916df3",
   "metadata": {},
   "outputs": [
    {
     "data": {
      "text/plain": [
       "1000000"
      ]
     },
     "execution_count": 6,
     "metadata": {},
     "output_type": "execute_result"
    }
   ],
   "source": [
    "df_repartitioned.cache()\n",
    "df_repartitioned.count()  # Triggers computation and stores the data in memory"
   ]
  },
  {
   "cell_type": "code",
   "execution_count": 7,
   "id": "eda17d81-9655-42ec-bfb7-e86f7c8d32d8",
   "metadata": {},
   "outputs": [
    {
     "name": "stdout",
     "output_type": "stream",
     "text": [
      "== Physical Plan ==\n",
      "AdaptiveSparkPlan isFinalPlan=true\n",
      "+- == Final Plan ==\n",
      "   ShuffleQueryStage 0\n",
      "   +- Exchange RoundRobinPartitioning(8), REPARTITION_BY_NUM, [plan_id=73]\n",
      "      +- *(1) Project [id#0L, rand(1620440083077161892) AS value#2]\n",
      "         +- *(1) Range (0, 1000000, step=1, splits=8)\n",
      "+- == Initial Plan ==\n",
      "   Exchange RoundRobinPartitioning(8), REPARTITION_BY_NUM, [plan_id=66]\n",
      "   +- Project [id#0L, rand(1620440083077161892) AS value#2]\n",
      "      +- Range (0, 1000000, step=1, splits=8)\n",
      "\n",
      "\n"
     ]
    }
   ],
   "source": [
    "df_repartitioned.explain()"
   ]
  },
  {
   "cell_type": "code",
   "execution_count": 8,
   "id": "8f3d87d2-0da5-4ba0-a558-4262294eb6d9",
   "metadata": {},
   "outputs": [
    {
     "name": "stdout",
     "output_type": "stream",
     "text": [
      "✅ Optimized data written to parquet format\n"
     ]
    }
   ],
   "source": [
    "df_repartitioned.write.mode(\"overwrite\").parquet(\"data/optimized_data.parquet\")\n",
    "print(\"✅ Optimized data written to parquet format\")"
   ]
  },
  {
   "cell_type": "code",
   "execution_count": null,
   "id": "5706323a-545b-4ed1-a1a7-01177ee93fb0",
   "metadata": {},
   "outputs": [],
   "source": []
  }
 ],
 "metadata": {
  "kernelspec": {
   "display_name": "Python 3 (ipykernel)",
   "language": "python",
   "name": "python3"
  },
  "language_info": {
   "codemirror_mode": {
    "name": "ipython",
    "version": 3
   },
   "file_extension": ".py",
   "mimetype": "text/x-python",
   "name": "python",
   "nbconvert_exporter": "python",
   "pygments_lexer": "ipython3",
   "version": "3.11.6"
  }
 },
 "nbformat": 4,
 "nbformat_minor": 5
}

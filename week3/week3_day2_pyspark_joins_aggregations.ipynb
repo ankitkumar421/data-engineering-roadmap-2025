{
 "cells": [
  {
   "cell_type": "code",
   "execution_count": 1,
   "id": "10a21e4b-ba2b-4260-aece-51d7d0d678dd",
   "metadata": {},
   "outputs": [
    {
     "name": "stdout",
     "output_type": "stream",
     "text": [
      "✅ Spark session created\n"
     ]
    }
   ],
   "source": [
    "from pyspark.sql import SparkSession\n",
    "\n",
    "spark = SparkSession.builder \\\n",
    "    .appName(\"Week3_Day2_PySpark_Joins_Aggregations\") \\\n",
    "    .getOrCreate()\n",
    "\n",
    "print(\"✅ Spark session created\")"
   ]
  },
  {
   "cell_type": "code",
   "execution_count": 2,
   "id": "3871d7df-0cbe-406a-9247-a822d4d4ef99",
   "metadata": {},
   "outputs": [
    {
     "name": "stdout",
     "output_type": "stream",
     "text": [
      "✅ Sample Data Created\n",
      "+-----------+-------+------+\n",
      "|customer_id|   name|  city|\n",
      "+-----------+-------+------+\n",
      "|          1|  Alice|  Pune|\n",
      "|          2|    Bob|Mumbai|\n",
      "|          3|Charlie| Delhi|\n",
      "|          4|  David|  Pune|\n",
      "+-----------+-------+------+\n",
      "\n",
      "+--------+-----------+------+\n",
      "|order_id|customer_id|amount|\n",
      "+--------+-----------+------+\n",
      "|     101|          1|  5000|\n",
      "|     102|          2|  1500|\n",
      "|     103|          1|  2500|\n",
      "|     104|          3|  2000|\n",
      "|     105|          5|  3000|\n",
      "+--------+-----------+------+\n",
      "\n"
     ]
    }
   ],
   "source": [
    "# Customers data\n",
    "customers = spark.createDataFrame([\n",
    "    (1, \"Alice\", \"Pune\"),\n",
    "    (2, \"Bob\", \"Mumbai\"),\n",
    "    (3, \"Charlie\", \"Delhi\"),\n",
    "    (4, \"David\", \"Pune\")\n",
    "], [\"customer_id\", \"name\", \"city\"])\n",
    "\n",
    "# Orders data\n",
    "orders = spark.createDataFrame([\n",
    "    (101, 1, 5000),\n",
    "    (102, 2, 1500),\n",
    "    (103, 1, 2500),\n",
    "    (104, 3, 2000),\n",
    "    (105, 5, 3000)\n",
    "], [\"order_id\", \"customer_id\", \"amount\"])\n",
    "\n",
    "print(\"✅ Sample Data Created\")\n",
    "customers.show()\n",
    "orders.show()"
   ]
  },
  {
   "cell_type": "code",
   "execution_count": 3,
   "id": "880897dd-3d06-45cb-8b8d-8f18d44cd2e0",
   "metadata": {},
   "outputs": [
    {
     "name": "stdout",
     "output_type": "stream",
     "text": [
      "+-----------+-------+------+--------+------+\n",
      "|customer_id|   name|  city|order_id|amount|\n",
      "+-----------+-------+------+--------+------+\n",
      "|          1|  Alice|  Pune|     101|  5000|\n",
      "|          1|  Alice|  Pune|     103|  2500|\n",
      "|          2|    Bob|Mumbai|     102|  1500|\n",
      "|          3|Charlie| Delhi|     104|  2000|\n",
      "+-----------+-------+------+--------+------+\n",
      "\n"
     ]
    }
   ],
   "source": [
    "inner_join_df = customers.join(orders, \"customer_id\", \"inner\")\n",
    "inner_join_df.show()"
   ]
  },
  {
   "cell_type": "code",
   "execution_count": 4,
   "id": "502d19e7-cfa2-4526-a40e-b87e71e201e1",
   "metadata": {},
   "outputs": [
    {
     "name": "stdout",
     "output_type": "stream",
     "text": [
      "+-----------+-------+------+--------+------+\n",
      "|customer_id|   name|  city|order_id|amount|\n",
      "+-----------+-------+------+--------+------+\n",
      "|          1|  Alice|  Pune|     103|  2500|\n",
      "|          1|  Alice|  Pune|     101|  5000|\n",
      "|          2|    Bob|Mumbai|     102|  1500|\n",
      "|          3|Charlie| Delhi|     104|  2000|\n",
      "|          4|  David|  Pune|    NULL|  NULL|\n",
      "+-----------+-------+------+--------+------+\n",
      "\n"
     ]
    }
   ],
   "source": [
    "left_join_df = customers.join(orders, \"customer_id\", \"left\")\n",
    "left_join_df.show()"
   ]
  },
  {
   "cell_type": "code",
   "execution_count": 5,
   "id": "86df391f-349e-4731-981e-24c93adb8ed2",
   "metadata": {},
   "outputs": [
    {
     "name": "stdout",
     "output_type": "stream",
     "text": [
      "+-----------+-------+------+--------+------+\n",
      "|customer_id|   name|  city|order_id|amount|\n",
      "+-----------+-------+------+--------+------+\n",
      "|          1|  Alice|  Pune|     101|  5000|\n",
      "|          2|    Bob|Mumbai|     102|  1500|\n",
      "|          1|  Alice|  Pune|     103|  2500|\n",
      "|          3|Charlie| Delhi|     104|  2000|\n",
      "|          5|   NULL|  NULL|     105|  3000|\n",
      "+-----------+-------+------+--------+------+\n",
      "\n"
     ]
    }
   ],
   "source": [
    "right_join_df = customers.join(orders, \"customer_id\", \"right\")\n",
    "right_join_df.show()"
   ]
  },
  {
   "cell_type": "code",
   "execution_count": 6,
   "id": "6b8134c2-5a3b-4108-a0cd-6460b7d75a43",
   "metadata": {},
   "outputs": [
    {
     "name": "stdout",
     "output_type": "stream",
     "text": [
      "+-----------+-------+------+--------+------+\n",
      "|customer_id|   name|  city|order_id|amount|\n",
      "+-----------+-------+------+--------+------+\n",
      "|          1|  Alice|  Pune|     101|  5000|\n",
      "|          1|  Alice|  Pune|     103|  2500|\n",
      "|          2|    Bob|Mumbai|     102|  1500|\n",
      "|          3|Charlie| Delhi|     104|  2000|\n",
      "|          4|  David|  Pune|    NULL|  NULL|\n",
      "|          5|   NULL|  NULL|     105|  3000|\n",
      "+-----------+-------+------+--------+------+\n",
      "\n"
     ]
    }
   ],
   "source": [
    "full_join_df = customers.join(orders, \"customer_id\", \"outer\")\n",
    "full_join_df.show()"
   ]
  },
  {
   "cell_type": "code",
   "execution_count": 7,
   "id": "f77e96ef-6bac-4e7f-96d3-2e39d0c53e9e",
   "metadata": {},
   "outputs": [
    {
     "name": "stdout",
     "output_type": "stream",
     "text": [
      "== Parsed Logical Plan ==\n",
      "'Join UsingJoin(Inner, [customer_id])\n",
      ":- LogicalRDD [order_id#6L, customer_id#7L, amount#8L], false\n",
      "+- ResolvedHint (strategy=broadcast)\n",
      "   +- LogicalRDD [customer_id#0L, name#1, city#2], false\n",
      "\n",
      "== Analyzed Logical Plan ==\n",
      "customer_id: bigint, order_id: bigint, amount: bigint, name: string, city: string\n",
      "Project [customer_id#7L, order_id#6L, amount#8L, name#1, city#2]\n",
      "+- Join Inner, (customer_id#7L = customer_id#0L)\n",
      "   :- LogicalRDD [order_id#6L, customer_id#7L, amount#8L], false\n",
      "   +- ResolvedHint (strategy=broadcast)\n",
      "      +- LogicalRDD [customer_id#0L, name#1, city#2], false\n",
      "\n",
      "== Optimized Logical Plan ==\n",
      "Project [customer_id#7L, order_id#6L, amount#8L, name#1, city#2]\n",
      "+- Join Inner, (customer_id#7L = customer_id#0L), rightHint=(strategy=broadcast)\n",
      "   :- Filter isnotnull(customer_id#7L)\n",
      "   :  +- LogicalRDD [order_id#6L, customer_id#7L, amount#8L], false\n",
      "   +- Filter isnotnull(customer_id#0L)\n",
      "      +- LogicalRDD [customer_id#0L, name#1, city#2], false\n",
      "\n",
      "== Physical Plan ==\n",
      "AdaptiveSparkPlan isFinalPlan=false\n",
      "+- Project [customer_id#7L, order_id#6L, amount#8L, name#1, city#2]\n",
      "   +- BroadcastHashJoin [customer_id#7L], [customer_id#0L], Inner, BuildRight, false\n",
      "      :- Filter isnotnull(customer_id#7L)\n",
      "      :  +- Scan ExistingRDD[order_id#6L,customer_id#7L,amount#8L]\n",
      "      +- BroadcastExchange HashedRelationBroadcastMode(List(input[0, bigint, false]),false), [plan_id=488]\n",
      "         +- Filter isnotnull(customer_id#0L)\n",
      "            +- Scan ExistingRDD[customer_id#0L,name#1,city#2]\n",
      "\n",
      "+-----------+--------+------+-------+------+\n",
      "|customer_id|order_id|amount|   name|  city|\n",
      "+-----------+--------+------+-------+------+\n",
      "|          1|     101|  5000|  Alice|  Pune|\n",
      "|          2|     102|  1500|    Bob|Mumbai|\n",
      "|          1|     103|  2500|  Alice|  Pune|\n",
      "|          3|     104|  2000|Charlie| Delhi|\n",
      "+-----------+--------+------+-------+------+\n",
      "\n"
     ]
    }
   ],
   "source": [
    "from pyspark.sql.functions import broadcast\n",
    "\n",
    "optimized_join = orders.join(broadcast(customers), \"customer_id\", \"inner\")\n",
    "optimized_join.explain(True)\n",
    "optimized_join.show()"
   ]
  },
  {
   "cell_type": "code",
   "execution_count": 8,
   "id": "94ee3acc-ad60-4678-bf44-877351b8dcc8",
   "metadata": {},
   "outputs": [
    {
     "name": "stdout",
     "output_type": "stream",
     "text": [
      "+------+------------+------------+----------+\n",
      "|  city|total_orders|total_amount|avg_amount|\n",
      "+------+------------+------------+----------+\n",
      "|  Pune|           2|        7500|    3750.0|\n",
      "|Mumbai|           1|        1500|    1500.0|\n",
      "| Delhi|           1|        2000|    2000.0|\n",
      "+------+------------+------------+----------+\n",
      "\n"
     ]
    }
   ],
   "source": [
    "from pyspark.sql.functions import sum, avg, count\n",
    "\n",
    "agg_df = optimized_join.groupBy(\"city\").agg(\n",
    "    count(\"order_id\").alias(\"total_orders\"),\n",
    "    sum(\"amount\").alias(\"total_amount\"),\n",
    "    avg(\"amount\").alias(\"avg_amount\")\n",
    ")\n",
    "agg_df.show()"
   ]
  },
  {
   "cell_type": "code",
   "execution_count": 9,
   "id": "98e922e5-d7f3-4f02-9199-5967538cb950",
   "metadata": {},
   "outputs": [
    {
     "name": "stdout",
     "output_type": "stream",
     "text": [
      "== Parsed Logical Plan ==\n",
      "'Aggregate ['city], ['city, count('order_id) AS total_orders#175, sum('amount) AS total_amount#177, avg('amount) AS avg_amount#179]\n",
      "+- Project [customer_id#7L, order_id#6L, amount#8L, name#1, city#2]\n",
      "   +- Join Inner, (customer_id#7L = customer_id#0L)\n",
      "      :- LogicalRDD [order_id#6L, customer_id#7L, amount#8L], false\n",
      "      +- ResolvedHint (strategy=broadcast)\n",
      "         +- LogicalRDD [customer_id#0L, name#1, city#2], false\n",
      "\n",
      "== Analyzed Logical Plan ==\n",
      "city: string, total_orders: bigint, total_amount: bigint, avg_amount: double\n",
      "Aggregate [city#2], [city#2, count(order_id#6L) AS total_orders#175L, sum(amount#8L) AS total_amount#177L, avg(amount#8L) AS avg_amount#179]\n",
      "+- Project [customer_id#7L, order_id#6L, amount#8L, name#1, city#2]\n",
      "   +- Join Inner, (customer_id#7L = customer_id#0L)\n",
      "      :- LogicalRDD [order_id#6L, customer_id#7L, amount#8L], false\n",
      "      +- ResolvedHint (strategy=broadcast)\n",
      "         +- LogicalRDD [customer_id#0L, name#1, city#2], false\n",
      "\n",
      "== Optimized Logical Plan ==\n",
      "Aggregate [city#2], [city#2, count(order_id#6L) AS total_orders#175L, sum(amount#8L) AS total_amount#177L, avg(amount#8L) AS avg_amount#179]\n",
      "+- Project [order_id#6L, amount#8L, city#2]\n",
      "   +- Join Inner, (customer_id#7L = customer_id#0L), rightHint=(strategy=broadcast)\n",
      "      :- Filter isnotnull(customer_id#7L)\n",
      "      :  +- LogicalRDD [order_id#6L, customer_id#7L, amount#8L], false\n",
      "      +- Project [customer_id#0L, city#2]\n",
      "         +- Filter isnotnull(customer_id#0L)\n",
      "            +- LogicalRDD [customer_id#0L, name#1, city#2], false\n",
      "\n",
      "== Physical Plan ==\n",
      "AdaptiveSparkPlan isFinalPlan=false\n",
      "+- HashAggregate(keys=[city#2], functions=[count(order_id#6L), sum(amount#8L), avg(amount#8L)], output=[city#2, total_orders#175L, total_amount#177L, avg_amount#179])\n",
      "   +- Exchange hashpartitioning(city#2, 200), ENSURE_REQUIREMENTS, [plan_id=724]\n",
      "      +- HashAggregate(keys=[city#2], functions=[partial_count(order_id#6L), partial_sum(amount#8L), partial_avg(amount#8L)], output=[city#2, count#200L, sum#201L, sum#202, count#203L])\n",
      "         +- Project [order_id#6L, amount#8L, city#2]\n",
      "            +- BroadcastHashJoin [customer_id#7L], [customer_id#0L], Inner, BuildRight, false\n",
      "               :- Filter isnotnull(customer_id#7L)\n",
      "               :  +- Scan ExistingRDD[order_id#6L,customer_id#7L,amount#8L]\n",
      "               +- BroadcastExchange HashedRelationBroadcastMode(List(input[0, bigint, true]),false), [plan_id=719]\n",
      "                  +- Project [customer_id#0L, city#2]\n",
      "                     +- Filter isnotnull(customer_id#0L)\n",
      "                        +- Scan ExistingRDD[customer_id#0L,name#1,city#2]\n",
      "\n"
     ]
    }
   ],
   "source": [
    "agg_df.explain(True)"
   ]
  },
  {
   "cell_type": "code",
   "execution_count": 10,
   "id": "2e4a4e4f-ff3a-41e1-8e88-69ea99a37f3d",
   "metadata": {},
   "outputs": [
    {
     "name": "stdout",
     "output_type": "stream",
     "text": [
      "✅ Output written to Parquet format\n"
     ]
    }
   ],
   "source": [
    "agg_df.write.mode(\"overwrite\").parquet(\"output/week3_day2_city_sales\")\n",
    "print(\"✅ Output written to Parquet format\")"
   ]
  }
 ],
 "metadata": {
  "kernelspec": {
   "display_name": "Python 3 (ipykernel)",
   "language": "python",
   "name": "python3"
  },
  "language_info": {
   "codemirror_mode": {
    "name": "ipython",
    "version": 3
   },
   "file_extension": ".py",
   "mimetype": "text/x-python",
   "name": "python",
   "nbconvert_exporter": "python",
   "pygments_lexer": "ipython3",
   "version": "3.11.6"
  }
 },
 "nbformat": 4,
 "nbformat_minor": 5
}

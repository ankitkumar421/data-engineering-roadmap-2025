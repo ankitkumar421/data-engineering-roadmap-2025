{
 "cells": [
  {
   "cell_type": "code",
   "execution_count": 1,
   "id": "423388fd-3658-48b0-9d80-8daac2a56a8b",
   "metadata": {},
   "outputs": [
    {
     "name": "stdout",
     "output_type": "stream",
     "text": [
      "✅ Spark Session Created\n"
     ]
    }
   ],
   "source": [
    "from pyspark.sql import SparkSession\n",
    "\n",
    "spark = SparkSession.builder \\\n",
    "    .appName(\"Week3_Day4_PySpark_Window_Functions\") \\\n",
    "    .getOrCreate()\n",
    "\n",
    "print(\"✅ Spark Session Created\")"
   ]
  },
  {
   "cell_type": "code",
   "execution_count": 2,
   "id": "84fc0103-6e02-4523-9e36-b81fc23b20be",
   "metadata": {},
   "outputs": [
    {
     "name": "stdout",
     "output_type": "stream",
     "text": [
      "+-----------+----------+------+\n",
      "|customer_id|order_date|amount|\n",
      "+-----------+----------+------+\n",
      "|          1|2024-01-01|   500|\n",
      "|          1|2024-01-05|   300|\n",
      "|          1|2024-01-10|   400|\n",
      "|          2|2024-01-02|  1000|\n",
      "|          2|2024-01-03|   800|\n",
      "|          3|2024-01-05|   600|\n",
      "+-----------+----------+------+\n",
      "\n"
     ]
    }
   ],
   "source": [
    "from pyspark.sql import Row\n",
    "\n",
    "data = [\n",
    "    Row(customer_id=1, order_date=\"2024-01-01\", amount=500),\n",
    "    Row(customer_id=1, order_date=\"2024-01-05\", amount=300),\n",
    "    Row(customer_id=1, order_date=\"2024-01-10\", amount=400),\n",
    "    Row(customer_id=2, order_date=\"2024-01-02\", amount=1000),\n",
    "    Row(customer_id=2, order_date=\"2024-01-03\", amount=800),\n",
    "    Row(customer_id=3, order_date=\"2024-01-05\", amount=600)\n",
    "]\n",
    "\n",
    "df = spark.createDataFrame(data)\n",
    "df.show()"
   ]
  },
  {
   "cell_type": "code",
   "execution_count": 3,
   "id": "9e3b1623-9391-4a15-9249-0402330fda81",
   "metadata": {},
   "outputs": [],
   "source": [
    "from pyspark.sql.window import Window\n",
    "from pyspark.sql.functions import sum, avg, row_number, rank, dense_rank, lag, lead"
   ]
  },
  {
   "cell_type": "code",
   "execution_count": 4,
   "id": "d87a8425-720e-427a-bc3a-2639ca8af367",
   "metadata": {},
   "outputs": [],
   "source": [
    "windowSpec = Window.partitionBy(\"customer_id\").orderBy(\"order_date\")"
   ]
  },
  {
   "cell_type": "code",
   "execution_count": 5,
   "id": "12cfdf53-412d-4fc5-a1c5-382eb81cb411",
   "metadata": {},
   "outputs": [
    {
     "name": "stdout",
     "output_type": "stream",
     "text": [
      "+-----------+----------+------+-------------+\n",
      "|customer_id|order_date|amount|running_total|\n",
      "+-----------+----------+------+-------------+\n",
      "|          1|2024-01-01|   500|          500|\n",
      "|          1|2024-01-05|   300|          800|\n",
      "|          1|2024-01-10|   400|         1200|\n",
      "|          2|2024-01-02|  1000|         1000|\n",
      "|          2|2024-01-03|   800|         1800|\n",
      "|          3|2024-01-05|   600|          600|\n",
      "+-----------+----------+------+-------------+\n",
      "\n"
     ]
    }
   ],
   "source": [
    "df_running = df.withColumn(\n",
    "    \"running_total\",\n",
    "    sum(\"amount\").over(windowSpec)\n",
    ")\n",
    "df_running.show()"
   ]
  },
  {
   "cell_type": "code",
   "execution_count": 6,
   "id": "d2a7f025-a4bc-4c3a-bca9-7e7c75ae6315",
   "metadata": {},
   "outputs": [
    {
     "name": "stdout",
     "output_type": "stream",
     "text": [
      "+-----------+----------+------+-------------+--------------+\n",
      "|customer_id|order_date|amount|running_total|average_amount|\n",
      "+-----------+----------+------+-------------+--------------+\n",
      "|          1|2024-01-01|   500|          500|         500.0|\n",
      "|          1|2024-01-05|   300|          800|         400.0|\n",
      "|          1|2024-01-10|   400|         1200|         400.0|\n",
      "|          2|2024-01-02|  1000|         1000|        1000.0|\n",
      "|          2|2024-01-03|   800|         1800|         900.0|\n",
      "|          3|2024-01-05|   600|          600|         600.0|\n",
      "+-----------+----------+------+-------------+--------------+\n",
      "\n"
     ]
    }
   ],
   "source": [
    "df_avg = df_running.withColumn(\n",
    "    \"average_amount\",\n",
    "    avg(\"amount\").over(windowSpec)\n",
    ")\n",
    "df_avg.show()"
   ]
  },
  {
   "cell_type": "code",
   "execution_count": 7,
   "id": "4f6ec4c2-facb-4d9c-b6a1-51065a51781b",
   "metadata": {},
   "outputs": [
    {
     "name": "stdout",
     "output_type": "stream",
     "text": [
      "+-----------+----------+------+-------------+--------------+----------+----+----------+\n",
      "|customer_id|order_date|amount|running_total|average_amount|row_number|rank|dense_rank|\n",
      "+-----------+----------+------+-------------+--------------+----------+----+----------+\n",
      "|          1|2024-01-01|   500|          500|         500.0|         1|   1|         1|\n",
      "|          1|2024-01-05|   300|          800|         400.0|         2|   2|         2|\n",
      "|          1|2024-01-10|   400|         1200|         400.0|         3|   3|         3|\n",
      "|          2|2024-01-02|  1000|         1000|        1000.0|         1|   1|         1|\n",
      "|          2|2024-01-03|   800|         1800|         900.0|         2|   2|         2|\n",
      "|          3|2024-01-05|   600|          600|         600.0|         1|   1|         1|\n",
      "+-----------+----------+------+-------------+--------------+----------+----+----------+\n",
      "\n"
     ]
    }
   ],
   "source": [
    "df_ranked = df_avg.withColumn(\"row_number\", row_number().over(windowSpec)) \\\n",
    "    .withColumn(\"rank\", rank().over(windowSpec)) \\\n",
    "    .withColumn(\"dense_rank\", dense_rank().over(windowSpec))\n",
    "df_ranked.show()"
   ]
  },
  {
   "cell_type": "code",
   "execution_count": 8,
   "id": "58c586c7-c715-4282-9672-ca41197d2c69",
   "metadata": {},
   "outputs": [
    {
     "name": "stdout",
     "output_type": "stream",
     "text": [
      "+-----------+----------+------+-------------+--------------+----------+----+----------+----------+----------+\n",
      "|customer_id|order_date|amount|running_total|average_amount|row_number|rank|dense_rank|prev_order|next_order|\n",
      "+-----------+----------+------+-------------+--------------+----------+----+----------+----------+----------+\n",
      "|          1|2024-01-01|   500|          500|         500.0|         1|   1|         1|      NULL|       300|\n",
      "|          1|2024-01-05|   300|          800|         400.0|         2|   2|         2|       500|       400|\n",
      "|          1|2024-01-10|   400|         1200|         400.0|         3|   3|         3|       300|      NULL|\n",
      "|          2|2024-01-02|  1000|         1000|        1000.0|         1|   1|         1|      NULL|       800|\n",
      "|          2|2024-01-03|   800|         1800|         900.0|         2|   2|         2|      1000|      NULL|\n",
      "|          3|2024-01-05|   600|          600|         600.0|         1|   1|         1|      NULL|      NULL|\n",
      "+-----------+----------+------+-------------+--------------+----------+----+----------+----------+----------+\n",
      "\n"
     ]
    }
   ],
   "source": [
    "df_final = df_ranked.withColumn(\"prev_order\", lag(\"amount\", 1).over(windowSpec)) \\\n",
    "    .withColumn(\"next_order\", lead(\"amount\", 1).over(windowSpec))\n",
    "df_final.show()"
   ]
  },
  {
   "cell_type": "code",
   "execution_count": 9,
   "id": "ce5528e0-c3ea-4821-aa95-f9b2ac1d45ba",
   "metadata": {},
   "outputs": [
    {
     "name": "stdout",
     "output_type": "stream",
     "text": [
      "✅ Results saved to output/week3_day4_window_functions\n"
     ]
    }
   ],
   "source": [
    "df_final.write.mode(\"overwrite\").parquet(\"output/week3_day4_window_functions\")\n",
    "print(\"✅ Results saved to output/week3_day4_window_functions\")"
   ]
  },
  {
   "cell_type": "code",
   "execution_count": null,
   "id": "3dfce81f-90d0-4743-9a9e-64bcc50aac99",
   "metadata": {},
   "outputs": [],
   "source": []
  }
 ],
 "metadata": {
  "kernelspec": {
   "display_name": "Python 3 (ipykernel)",
   "language": "python",
   "name": "python3"
  },
  "language_info": {
   "codemirror_mode": {
    "name": "ipython",
    "version": 3
   },
   "file_extension": ".py",
   "mimetype": "text/x-python",
   "name": "python",
   "nbconvert_exporter": "python",
   "pygments_lexer": "ipython3",
   "version": "3.11.6"
  }
 },
 "nbformat": 4,
 "nbformat_minor": 5
}

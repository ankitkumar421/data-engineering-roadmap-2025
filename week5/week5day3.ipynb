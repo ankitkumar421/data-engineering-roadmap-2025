{
 "cells": [
  {
   "cell_type": "code",
   "execution_count": 1,
   "id": "9f3a145f-7ae4-4501-a270-c98d6ea96237",
   "metadata": {},
   "outputs": [
    {
     "name": "stdout",
     "output_type": "stream",
     "text": [
      "Azure & GCP sim folders created.\n"
     ]
    }
   ],
   "source": [
    "import os\n",
    "\n",
    "azure_dir = '/home/jovyan/work/azure_blob/container'\n",
    "gcp_dir = '/home/jovyan/work/gcs_bucket'\n",
    "os.makedirs(azure_dir, exist_ok=True)\n",
    "os.makedirs(gcp_dir, exist_ok=True)\n",
    "print(\"Azure & GCP sim folders created.\")"
   ]
  },
  {
   "cell_type": "code",
   "execution_count": 2,
   "id": "cf54c60d-8a11-4062-9d11-047438e15ff6",
   "metadata": {},
   "outputs": [
    {
     "name": "stdout",
     "output_type": "stream",
     "text": [
      "Spark session started\n"
     ]
    }
   ],
   "source": [
    "from pyspark.sql import SparkSession\n",
    "spark = SparkSession.builder.appName(\"Week5_Cloud_Simulation\").getOrCreate()\n",
    "print(\"Spark session started\")"
   ]
  },
  {
   "cell_type": "code",
   "execution_count": 3,
   "id": "2ce09b77-eba6-4cb2-97a5-65217482176c",
   "metadata": {},
   "outputs": [],
   "source": [
    "df = spark.read.csv(\"/home/jovyan/work/data/sales.csv\", header=True, inferSchema=True)"
   ]
  },
  {
   "cell_type": "code",
   "execution_count": 4,
   "id": "2b429f24-7c11-42d6-a8d6-ac84cc7e0987",
   "metadata": {},
   "outputs": [
    {
     "name": "stdout",
     "output_type": "stream",
     "text": [
      "Data written to Azure/GCP sim locations.\n"
     ]
    }
   ],
   "source": [
    "df.write.mode(\"overwrite\").parquet(azure_dir + '/sales_analytics.parquet')\n",
    "df.write.mode(\"overwrite\").parquet(gcp_dir + '/sales_analytics.parquet')\n",
    "print(\"Data written to Azure/GCP sim locations.\")"
   ]
  },
  {
   "cell_type": "code",
   "execution_count": 5,
   "id": "666d0f44-79fc-4bda-b646-c1f087d09cf8",
   "metadata": {},
   "outputs": [
    {
     "name": "stdout",
     "output_type": "stream",
     "text": [
      "+--------+-----------+----------+--------+--------+----------+\n",
      "|order_id|customer_id|order_date| product|quantity|unit_price|\n",
      "+--------+-----------+----------+--------+--------+----------+\n",
      "|       1|       1001|2024-01-01|Widget A|       2|      9.99|\n",
      "|       2|       1002|2024-01-03|Widget B|       1|     19.99|\n",
      "|       3|       1001|2024-01-07|Widget C|       5|       4.5|\n",
      "|       4|       1003|2024-02-10|Widget A|       3|      9.99|\n",
      "|       5|       1004|2024-02-15|Widget B|       2|     19.99|\n",
      "+--------+-----------+----------+--------+--------+----------+\n",
      "only showing top 5 rows\n",
      "\n",
      "+--------+-----------+----------+--------+--------+----------+\n",
      "|order_id|customer_id|order_date| product|quantity|unit_price|\n",
      "+--------+-----------+----------+--------+--------+----------+\n",
      "|       1|       1001|2024-01-01|Widget A|       2|      9.99|\n",
      "|       2|       1002|2024-01-03|Widget B|       1|     19.99|\n",
      "|       3|       1001|2024-01-07|Widget C|       5|       4.5|\n",
      "|       4|       1003|2024-02-10|Widget A|       3|      9.99|\n",
      "|       5|       1004|2024-02-15|Widget B|       2|     19.99|\n",
      "+--------+-----------+----------+--------+--------+----------+\n",
      "only showing top 5 rows\n",
      "\n"
     ]
    }
   ],
   "source": [
    "df_azure = spark.read.parquet(azure_dir + '/sales_analytics.parquet')\n",
    "df_azure.show(5)\n",
    "\n",
    "df_gcp = spark.read.parquet(gcp_dir + '/sales_analytics.parquet')\n",
    "df_gcp.show(5)"
   ]
  }
 ],
 "metadata": {
  "kernelspec": {
   "display_name": "Python 3 (ipykernel)",
   "language": "python",
   "name": "python3"
  },
  "language_info": {
   "codemirror_mode": {
    "name": "ipython",
    "version": 3
   },
   "file_extension": ".py",
   "mimetype": "text/x-python",
   "name": "python",
   "nbconvert_exporter": "python",
   "pygments_lexer": "ipython3",
   "version": "3.11.6"
  }
 },
 "nbformat": 4,
 "nbformat_minor": 5
}

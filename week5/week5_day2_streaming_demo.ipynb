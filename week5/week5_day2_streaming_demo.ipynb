{
 "cells": [
  {
   "cell_type": "code",
   "execution_count": 1,
   "id": "5a9520db-a6ad-46c7-9cde-a9fef445e775",
   "metadata": {},
   "outputs": [],
   "source": [
    "from pyspark.sql import SparkSession\n",
    "from pyspark.sql.functions import col\n",
    "\n",
    "spark = SparkSession.builder.appName(\"Week5_Structured_Streaming\").getOrCreate()"
   ]
  },
  {
   "cell_type": "code",
   "execution_count": 2,
   "id": "716b6698-f82f-4836-80ee-ca91d1f6a481",
   "metadata": {},
   "outputs": [
    {
     "name": "stdout",
     "output_type": "stream",
     "text": [
      "Streaming input folder ready: /home/jovyan/work/data/streaming_inbox/\n"
     ]
    }
   ],
   "source": [
    "import os\n",
    "\n",
    "input_dir = '/home/jovyan/work/data/streaming_inbox/'\n",
    "os.makedirs(input_dir, exist_ok=True)\n",
    "print(\"Streaming input folder ready:\", input_dir)"
   ]
  },
  {
   "cell_type": "code",
   "execution_count": 3,
   "id": "14ad2b9a-ac36-4198-8454-c518afa2d06e",
   "metadata": {},
   "outputs": [
    {
     "name": "stdout",
     "output_type": "stream",
     "text": [
      "root\n",
      " |-- order_id: integer (nullable = true)\n",
      " |-- customer_id: integer (nullable = true)\n",
      " |-- order_date: date (nullable = true)\n",
      " |-- product: string (nullable = true)\n",
      " |-- quantity: integer (nullable = true)\n",
      " |-- unit_price: double (nullable = true)\n",
      "\n"
     ]
    }
   ],
   "source": [
    "# NOTE: Files MUST have the same schema\n",
    "stream_df = spark.readStream \\\n",
    "    .option(\"header\", True) \\\n",
    "    .schema(spark.read.csv(\"/home/jovyan/work/data/sales.csv\", header=True, inferSchema=True).schema) \\\n",
    "    .csv(input_dir)\n",
    "\n",
    "stream_df.printSchema()"
   ]
  },
  {
   "cell_type": "code",
   "execution_count": 4,
   "id": "8e9b6286-0758-44b7-885c-ff9be4ca7a56",
   "metadata": {},
   "outputs": [],
   "source": [
    "agg_df = stream_df.groupBy(\"product\").sum(\"quantity\")"
   ]
  },
  {
   "cell_type": "code",
   "execution_count": 5,
   "id": "b6b1badf-cd2c-40a4-967e-02bf53171cd3",
   "metadata": {},
   "outputs": [],
   "source": [
    "query = agg_df.writeStream \\\n",
    "    .outputMode(\"complete\") \\\n",
    "    .format(\"console\") \\\n",
    "    .option(\"truncate\", False) \\\n",
    "    .start()\n",
    "\n",
    "# This runs the stream job—for a notebook, try either:\n",
    "# query.awaitTermination(60)   # Run for 60 seconds then stop\n",
    "# OR\n",
    "# query.processAllAvailable()  # For batch testing (PySpark 3.2+)"
   ]
  }
 ],
 "metadata": {
  "kernelspec": {
   "display_name": "Python 3 (ipykernel)",
   "language": "python",
   "name": "python3"
  },
  "language_info": {
   "codemirror_mode": {
    "name": "ipython",
    "version": 3
   },
   "file_extension": ".py",
   "mimetype": "text/x-python",
   "name": "python",
   "nbconvert_exporter": "python",
   "pygments_lexer": "ipython3",
   "version": "3.11.6"
  }
 },
 "nbformat": 4,
 "nbformat_minor": 5
}

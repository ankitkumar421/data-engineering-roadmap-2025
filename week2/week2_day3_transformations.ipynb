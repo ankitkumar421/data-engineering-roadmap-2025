{
 "cells": [
  {
   "cell_type": "code",
   "execution_count": 1,
   "id": "176fda2d-3c26-4494-b7d8-40c1ac6c6b31",
   "metadata": {},
   "outputs": [
    {
     "name": "stdout",
     "output_type": "stream",
     "text": [
      "✅ Spark Session Created\n"
     ]
    }
   ],
   "source": [
    "from pyspark.sql import SparkSession\n",
    "\n",
    "spark = SparkSession.builder \\\n",
    "    .appName(\"Week2_Day3_Transformations\") \\\n",
    "    .getOrCreate()\n",
    "\n",
    "print(\"✅ Spark Session Created\")"
   ]
  },
  {
   "cell_type": "code",
   "execution_count": 6,
   "id": "6fe3b73e-257f-4f9e-a084-4d7dfdb82869",
   "metadata": {},
   "outputs": [
    {
     "name": "stdout",
     "output_type": "stream",
     "text": [
      "+--------+-----------+----------+--------+--------+----------+\n",
      "|order_id|customer_id|order_date| product|quantity|unit_price|\n",
      "+--------+-----------+----------+--------+--------+----------+\n",
      "|       1|       1001|2024-01-01|Widget A|       2|      9.99|\n",
      "|       2|       1002|2024-01-03|Widget B|       1|     19.99|\n",
      "|       3|       1001|2024-01-07|Widget C|       5|       4.5|\n",
      "|       4|       1003|2024-02-10|Widget A|       3|      9.99|\n",
      "|       5|       1004|2024-02-15|Widget B|       2|     19.99|\n",
      "+--------+-----------+----------+--------+--------+----------+\n",
      "only showing top 5 rows\n",
      "\n"
     ]
    }
   ],
   "source": [
    "# Load sales.csv into DataFrame\n",
    "df = spark.read.csv(\"../data/sales.csv\", header=True, inferSchema=True)\n",
    "\n",
    "df.show(5)   # Preview first 5 rows"
   ]
  },
  {
   "cell_type": "code",
   "execution_count": 7,
   "id": "0a89e8a7-8596-4991-b9f8-1fc535bd86ae",
   "metadata": {},
   "outputs": [
    {
     "name": "stdout",
     "output_type": "stream",
     "text": [
      "[Row(order_id=1, customer_id=1001, order_date=datetime.date(2024, 1, 1), product='Widget A', quantity=2, unit_price=9.99), Row(order_id=2, customer_id=1002, order_date=datetime.date(2024, 1, 3), product='Widget B', quantity=1, unit_price=19.99)]\n"
     ]
    }
   ],
   "source": [
    "rdd = df.rdd\n",
    "print(rdd.take(2))  # show 2 rows from RDD"
   ]
  },
  {
   "cell_type": "code",
   "execution_count": 9,
   "id": "d2bdd53a-288c-43f0-8b51-b12c0365259b",
   "metadata": {},
   "outputs": [],
   "source": [
    "# Filter sales with quantity > 2\n",
    "filtered_rdd = rdd.filter(lambda row: row['quantity'] > 2)\n",
    "b\n",
    "# Map each row to (product, revenue)\n",
    "product_revenue_rdd = filtered_rdd.map(lambda row: (row['product'], row['quantity'] * row['unit_price']))\n",
    "\n",
    "# ReduceByKey → sum revenue per product\n",
    "revenue_by_product_rdd = product_revenue_rdd.reduceByKey(lambda a, b: a + b)"
   ]
  },
  {
   "cell_type": "code",
   "execution_count": 10,
   "id": "c07fef09-3d00-422f-9d10-d5e43eef219e",
   "metadata": {},
   "outputs": [
    {
     "name": "stdout",
     "output_type": "stream",
     "text": [
      "[('Widget C', 22.5), ('Widget A', 129.87), ('Widget B', 79.96), ('Widget D', 89.97)]\n"
     ]
    }
   ],
   "source": [
    "# Collect results\n",
    "results = revenue_by_product_rdd.collect()\n",
    "print(results)"
   ]
  },
  {
   "cell_type": "code",
   "execution_count": 11,
   "id": "9394642b-16b5-4807-9608-c35e075b1647",
   "metadata": {},
   "outputs": [
    {
     "name": "stdout",
     "output_type": "stream",
     "text": [
      "+--------+------------------+\n",
      "| product|     total_revenue|\n",
      "+--------+------------------+\n",
      "|Widget C|              31.5|\n",
      "|Widget B|            139.93|\n",
      "|Widget A|149.85000000000002|\n",
      "|Widget D|            119.96|\n",
      "+--------+------------------+\n",
      "\n"
     ]
    }
   ],
   "source": [
    "from pyspark.sql.functions import col, sum\n",
    "\n",
    "df.withColumn(\"revenue\", col(\"quantity\") * col(\"unit_price\")) \\\n",
    "  .groupBy(\"product\") \\\n",
    "  .agg(sum(\"revenue\").alias(\"total_revenue\")) \\\n",
    "  .show()"
   ]
  },
  {
   "cell_type": "code",
   "execution_count": null,
   "id": "52d8792e-3fec-4e40-854b-6588b13df45c",
   "metadata": {},
   "outputs": [],
   "source": []
  }
 ],
 "metadata": {
  "kernelspec": {
   "display_name": "Python 3 (ipykernel)",
   "language": "python",
   "name": "python3"
  },
  "language_info": {
   "codemirror_mode": {
    "name": "ipython",
    "version": 3
   },
   "file_extension": ".py",
   "mimetype": "text/x-python",
   "name": "python",
   "nbconvert_exporter": "python",
   "pygments_lexer": "ipython3",
   "version": "3.11.6"
  }
 },
 "nbformat": 4,
 "nbformat_minor": 5
}

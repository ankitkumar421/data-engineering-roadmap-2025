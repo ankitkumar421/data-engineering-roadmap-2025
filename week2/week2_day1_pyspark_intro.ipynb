{
 "cells": [
  {
   "cell_type": "code",
   "execution_count": 1,
   "id": "b3c32b9b-ac4b-4344-90d7-0157e7d06fa8",
   "metadata": {},
   "outputs": [
    {
     "name": "stdout",
     "output_type": "stream",
     "text": [
      "✅ Spark Session Created\n"
     ]
    }
   ],
   "source": [
    "from pyspark.sql import SparkSession\n",
    "\n",
    "spark = SparkSession.builder \\\n",
    "    .appName(\"Week2_Day1_PySpark\") \\\n",
    "    .getOrCreate()\n",
    "\n",
    "print(\"✅ Spark Session Created\")"
   ]
  },
  {
   "cell_type": "code",
   "execution_count": 2,
   "id": "ac07965d-5ba4-4253-9102-77aad55c3b24",
   "metadata": {},
   "outputs": [
    {
     "name": "stdout",
     "output_type": "stream",
     "text": [
      "+--------+-----------+----------+--------+--------+----------+\n",
      "|order_id|customer_id|order_date| product|quantity|unit_price|\n",
      "+--------+-----------+----------+--------+--------+----------+\n",
      "|       1|       1001|2024-01-01|Widget A|       2|      9.99|\n",
      "|       2|       1002|2024-01-03|Widget B|       1|     19.99|\n",
      "|       3|       1001|2024-01-07|Widget C|       5|       4.5|\n",
      "|       4|       1003|2024-02-10|Widget A|       3|      9.99|\n",
      "|       5|       1004|2024-02-15|Widget B|       2|     19.99|\n",
      "+--------+-----------+----------+--------+--------+----------+\n",
      "only showing top 5 rows\n",
      "\n"
     ]
    }
   ],
   "source": [
    "# Load sales.csv from your mounted project folder\n",
    "df = spark.read.csv(\"/home/jovyan/work/data/sales.csv\", header=True, inferSchema=True)\n",
    "\n",
    "# Show first 5 rows\n",
    "df.show(5)"
   ]
  },
  {
   "cell_type": "code",
   "execution_count": 3,
   "id": "56297b72-c653-46ec-93af-d427e20d47cf",
   "metadata": {},
   "outputs": [
    {
     "name": "stdout",
     "output_type": "stream",
     "text": [
      "Pandas shape: (10, 6)\n",
      "PySpark count: 10\n"
     ]
    }
   ],
   "source": [
    "import pandas as pd\n",
    "\n",
    "pdf = pd.read_csv(\"/home/jovyan/work/data/sales.csv\")\n",
    "print(\"Pandas shape:\", pdf.shape)\n",
    "\n",
    "print(\"PySpark count:\", df.count())"
   ]
  }
 ],
 "metadata": {
  "kernelspec": {
   "display_name": "Python 3 (ipykernel)",
   "language": "python",
   "name": "python3"
  },
  "language_info": {
   "codemirror_mode": {
    "name": "ipython",
    "version": 3
   },
   "file_extension": ".py",
   "mimetype": "text/x-python",
   "name": "python",
   "nbconvert_exporter": "python",
   "pygments_lexer": "ipython3",
   "version": "3.11.6"
  }
 },
 "nbformat": 4,
 "nbformat_minor": 5
}

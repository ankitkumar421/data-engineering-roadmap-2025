{
 "cells": [
  {
   "cell_type": "code",
   "execution_count": 1,
   "id": "8572ff73-6ab6-4612-a481-e7c2a158c9d2",
   "metadata": {},
   "outputs": [
    {
     "name": "stdout",
     "output_type": "stream",
     "text": [
      "✅ Spark Session Created\n"
     ]
    }
   ],
   "source": [
    "from pyspark.sql import SparkSession\n",
    "\n",
    "spark = SparkSession.builder \\\n",
    "    .appName(\"Week2_Day6_WindowFunctions\") \\\n",
    "    .getOrCreate()\n",
    "\n",
    "print(\"✅ Spark Session Created\")"
   ]
  },
  {
   "cell_type": "code",
   "execution_count": 3,
   "id": "5be89d12-34e6-460f-b8cd-d952d495c7b0",
   "metadata": {},
   "outputs": [
    {
     "name": "stdout",
     "output_type": "stream",
     "text": [
      "+--------+-----------+----------+--------+--------+----------+\n",
      "|order_id|customer_id|order_date| product|quantity|unit_price|\n",
      "+--------+-----------+----------+--------+--------+----------+\n",
      "|       1|       1001|2024-01-01|Widget A|       2|      9.99|\n",
      "|       2|       1002|2024-01-03|Widget B|       1|     19.99|\n",
      "|       3|       1001|2024-01-07|Widget C|       5|       4.5|\n",
      "|       4|       1003|2024-02-10|Widget A|       3|      9.99|\n",
      "|       5|       1004|2024-02-15|Widget B|       2|     19.99|\n",
      "+--------+-----------+----------+--------+--------+----------+\n",
      "only showing top 5 rows\n",
      "\n"
     ]
    }
   ],
   "source": [
    "from pyspark.sql.functions import col, sum, row_number, rank\n",
    "from pyspark.sql.window import Window\n",
    "\n",
    "df = spark.read.csv(\"../data/sales.csv\", header=True, inferSchema=True)\n",
    "df.show(5)"
   ]
  },
  {
   "cell_type": "code",
   "execution_count": 4,
   "id": "9ffb4a3b-05f0-40cd-876c-9616a29faf7c",
   "metadata": {},
   "outputs": [
    {
     "name": "stdout",
     "output_type": "stream",
     "text": [
      "+--------+-----------+----------+--------+--------+----------+-------+\n",
      "|order_id|customer_id|order_date| product|quantity|unit_price|row_num|\n",
      "+--------+-----------+----------+--------+--------+----------+-------+\n",
      "|       1|       1001|2024-01-01|Widget A|       2|      9.99|      1|\n",
      "|       3|       1001|2024-01-07|Widget C|       5|       4.5|      2|\n",
      "|       8|       1001|2024-03-20|Widget B|       4|     19.99|      3|\n",
      "|       2|       1002|2024-01-03|Widget B|       1|     19.99|      1|\n",
      "|       6|       1002|2024-03-01|Widget D|       1|     29.99|      2|\n",
      "|       4|       1003|2024-02-10|Widget A|       3|      9.99|      1|\n",
      "|       5|       1004|2024-02-15|Widget B|       2|     19.99|      1|\n",
      "|       7|       1005|2024-03-05|Widget A|      10|      9.99|      1|\n",
      "|       9|       1006|2024-04-02|Widget C|       2|       4.5|      1|\n",
      "|      10|       1007|2024-04-15|Widget D|       3|     29.99|      1|\n",
      "+--------+-----------+----------+--------+--------+----------+-------+\n",
      "\n",
      "+--------+-----------+----------+--------+--------+----------+----+\n",
      "|order_id|customer_id|order_date| product|quantity|unit_price|rank|\n",
      "+--------+-----------+----------+--------+--------+----------+----+\n",
      "|       1|       1001|2024-01-01|Widget A|       2|      9.99|   1|\n",
      "|       3|       1001|2024-01-07|Widget C|       5|       4.5|   2|\n",
      "|       8|       1001|2024-03-20|Widget B|       4|     19.99|   3|\n",
      "|       2|       1002|2024-01-03|Widget B|       1|     19.99|   1|\n",
      "|       6|       1002|2024-03-01|Widget D|       1|     29.99|   2|\n",
      "|       4|       1003|2024-02-10|Widget A|       3|      9.99|   1|\n",
      "|       5|       1004|2024-02-15|Widget B|       2|     19.99|   1|\n",
      "|       7|       1005|2024-03-05|Widget A|      10|      9.99|   1|\n",
      "|       9|       1006|2024-04-02|Widget C|       2|       4.5|   1|\n",
      "|      10|       1007|2024-04-15|Widget D|       3|     29.99|   1|\n",
      "+--------+-----------+----------+--------+--------+----------+----+\n",
      "\n"
     ]
    }
   ],
   "source": [
    "# Define window partitioned by customer_id, ordered by order_date\n",
    "window_spec = Window.partitionBy(\"customer_id\").orderBy(\"order_date\")\n",
    "\n",
    "# Row number\n",
    "df.withColumn(\"row_num\", row_number().over(window_spec)) \\\n",
    "  .show()\n",
    "\n",
    "# Rank\n",
    "df.withColumn(\"rank\", rank().over(window_spec)) \\\n",
    "  .show()"
   ]
  },
  {
   "cell_type": "code",
   "execution_count": 5,
   "id": "7c1d1695-cd57-4a8d-bd00-9d1aca8f0640",
   "metadata": {},
   "outputs": [
    {
     "name": "stdout",
     "output_type": "stream",
     "text": [
      "+--------+-----------+----------+--------+--------+----------+-------+------------------+\n",
      "|order_id|customer_id|order_date| product|quantity|unit_price|revenue|cumulative_revenue|\n",
      "+--------+-----------+----------+--------+--------+----------+-------+------------------+\n",
      "|       1|       1001|2024-01-01|Widget A|       2|      9.99|  19.98|             19.98|\n",
      "|       3|       1001|2024-01-07|Widget C|       5|       4.5|   22.5|42.480000000000004|\n",
      "|       8|       1001|2024-03-20|Widget B|       4|     19.99|  79.96|            122.44|\n",
      "|       2|       1002|2024-01-03|Widget B|       1|     19.99|  19.99|             19.99|\n",
      "|       6|       1002|2024-03-01|Widget D|       1|     29.99|  29.99|             49.98|\n",
      "|       4|       1003|2024-02-10|Widget A|       3|      9.99|  29.97|             29.97|\n",
      "|       5|       1004|2024-02-15|Widget B|       2|     19.99|  39.98|             39.98|\n",
      "|       7|       1005|2024-03-05|Widget A|      10|      9.99|   99.9|              99.9|\n",
      "|       9|       1006|2024-04-02|Widget C|       2|       4.5|    9.0|               9.0|\n",
      "|      10|       1007|2024-04-15|Widget D|       3|     29.99|  89.97|             89.97|\n",
      "+--------+-----------+----------+--------+--------+----------+-------+------------------+\n",
      "\n"
     ]
    }
   ],
   "source": [
    "from pyspark.sql.functions import sum as spark_sum\n",
    "\n",
    "window_cust = Window.partitionBy(\"customer_id\").orderBy(\"order_date\").rowsBetween(Window.unboundedPreceding, Window.currentRow)\n",
    "\n",
    "df.withColumn(\"revenue\", col(\"quantity\") * col(\"unit_price\")) \\\n",
    "  .withColumn(\"cumulative_revenue\", spark_sum(\"revenue\").over(window_cust)) \\\n",
    "  .show()"
   ]
  },
  {
   "cell_type": "code",
   "execution_count": 6,
   "id": "11cbfaa1-ab99-43ce-905c-b7739e877985",
   "metadata": {},
   "outputs": [
    {
     "name": "stdout",
     "output_type": "stream",
     "text": [
      "+-----------+------------------+------------------+\n",
      "|order_month|   monthly_revenue|moving_avg_revenue|\n",
      "+-----------+------------------+------------------+\n",
      "|    2024-01|             62.47|             62.47|\n",
      "|    2024-02| 69.94999999999999|             66.21|\n",
      "|    2024-03|209.85000000000002|114.08999999999999|\n",
      "|    2024-04|             98.97|126.25666666666666|\n",
      "+-----------+------------------+------------------+\n",
      "\n"
     ]
    }
   ],
   "source": [
    "from pyspark.sql.functions import date_format, avg\n",
    "\n",
    "df_with_month = df.withColumn(\"order_month\", date_format(col(\"order_date\"), \"yyyy-MM\")) \\\n",
    "                  .withColumn(\"revenue\", col(\"quantity\") * col(\"unit_price\"))\n",
    "\n",
    "window_month = Window.orderBy(\"order_month\").rowsBetween(-2, 0)  # last 3 months including current\n",
    "\n",
    "df_with_month.groupBy(\"order_month\") \\\n",
    "    .agg(spark_sum(\"revenue\").alias(\"monthly_revenue\")) \\\n",
    "    .withColumn(\"moving_avg_revenue\", avg(\"monthly_revenue\").over(window_month)) \\\n",
    "    .show()"
   ]
  }
 ],
 "metadata": {
  "kernelspec": {
   "display_name": "Python 3 (ipykernel)",
   "language": "python",
   "name": "python3"
  },
  "language_info": {
   "codemirror_mode": {
    "name": "ipython",
    "version": 3
   },
   "file_extension": ".py",
   "mimetype": "text/x-python",
   "name": "python",
   "nbconvert_exporter": "python",
   "pygments_lexer": "ipython3",
   "version": "3.11.6"
  }
 },
 "nbformat": 4,
 "nbformat_minor": 5
}

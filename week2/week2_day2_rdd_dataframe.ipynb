{
 "cells": [
  {
   "cell_type": "code",
   "execution_count": 1,
   "id": "ef168781-69e8-440e-8730-eb2d41ed2189",
   "metadata": {},
   "outputs": [
    {
     "name": "stdout",
     "output_type": "stream",
     "text": [
      "✅ Spark Session & Context Created\n"
     ]
    }
   ],
   "source": [
    "from pyspark.sql import SparkSession\n",
    "\n",
    "spark = SparkSession.builder \\\n",
    "    .appName(\"Week2_Day2_RDDs_DataFrames\") \\\n",
    "    .getOrCreate()\n",
    "\n",
    "sc = spark.sparkContext  # SparkContext gives you access to RDD API\n",
    "\n",
    "print(\"✅ Spark Session & Context Created\")"
   ]
  },
  {
   "cell_type": "code",
   "execution_count": 2,
   "id": "11036886-7da8-43d8-8e6b-366d235eb358",
   "metadata": {},
   "outputs": [
    {
     "name": "stdout",
     "output_type": "stream",
     "text": [
      "RDD count: 5\n",
      "RDD elements: [1, 2, 3, 4, 5]\n"
     ]
    }
   ],
   "source": [
    "# Create an RDD from a Python list\n",
    "data = [1, 2, 3, 4, 5]\n",
    "rdd = sc.parallelize(data)\n",
    "\n",
    "print(\"RDD count:\", rdd.count())\n",
    "print(\"RDD elements:\", rdd.collect())"
   ]
  },
  {
   "cell_type": "code",
   "execution_count": 3,
   "id": "3fcbbb2c-f9ef-4cf0-9799-c0c136d93da5",
   "metadata": {},
   "outputs": [
    {
     "name": "stdout",
     "output_type": "stream",
     "text": [
      "Squared RDD: [1, 4, 9, 16, 25]\n"
     ]
    }
   ],
   "source": [
    "# Example: square each number\n",
    "squared_rdd = rdd.map(lambda x: x * x)\n",
    "\n",
    "print(\"Squared RDD:\", squared_rdd.collect())"
   ]
  },
  {
   "cell_type": "code",
   "execution_count": 4,
   "id": "065836ef-e3e5-4303-8cf8-4b6f7b95371b",
   "metadata": {},
   "outputs": [
    {
     "name": "stdout",
     "output_type": "stream",
     "text": [
      "+---+-------+\n",
      "| id|   name|\n",
      "+---+-------+\n",
      "|  1|  Alice|\n",
      "|  2|    Bob|\n",
      "|  3|Charlie|\n",
      "+---+-------+\n",
      "\n"
     ]
    }
   ],
   "source": [
    "df = spark.createDataFrame([(1, \"Alice\"), (2, \"Bob\"), (3, \"Charlie\")], [\"id\", \"name\"])\n",
    "df.show()"
   ]
  },
  {
   "cell_type": "code",
   "execution_count": 5,
   "id": "db53a8ef-0c0c-4357-9007-44a490b21f6d",
   "metadata": {},
   "outputs": [
    {
     "name": "stdout",
     "output_type": "stream",
     "text": [
      "root\n",
      " |-- order_id: integer (nullable = true)\n",
      " |-- customer_id: integer (nullable = true)\n",
      " |-- order_date: date (nullable = true)\n",
      " |-- product: string (nullable = true)\n",
      " |-- quantity: integer (nullable = true)\n",
      " |-- unit_price: double (nullable = true)\n",
      "\n",
      "+--------+-----------+----------+--------+--------+----------+\n",
      "|order_id|customer_id|order_date| product|quantity|unit_price|\n",
      "+--------+-----------+----------+--------+--------+----------+\n",
      "|       1|       1001|2024-01-01|Widget A|       2|      9.99|\n",
      "|       2|       1002|2024-01-03|Widget B|       1|     19.99|\n",
      "|       3|       1001|2024-01-07|Widget C|       5|       4.5|\n",
      "|       4|       1003|2024-02-10|Widget A|       3|      9.99|\n",
      "|       5|       1004|2024-02-15|Widget B|       2|     19.99|\n",
      "+--------+-----------+----------+--------+--------+----------+\n",
      "only showing top 5 rows\n",
      "\n"
     ]
    }
   ],
   "source": [
    "sales_df = spark.read.csv(\"/home/jovyan/work/data/sales.csv\", header=True, inferSchema=True)\n",
    "sales_df.printSchema()\n",
    "sales_df.show(5)"
   ]
  },
  {
   "cell_type": "code",
   "execution_count": 6,
   "id": "b44275c5-bc72-4f63-9453-f7a78f2dd33e",
   "metadata": {},
   "outputs": [
    {
     "name": "stdout",
     "output_type": "stream",
     "text": [
      "First 5 order_ids (RDD): [1, 2, 3, 4, 5]\n",
      "+--------+\n",
      "|order_id|\n",
      "+--------+\n",
      "|       1|\n",
      "|       2|\n",
      "|       3|\n",
      "|       4|\n",
      "|       5|\n",
      "+--------+\n",
      "only showing top 5 rows\n",
      "\n"
     ]
    }
   ],
   "source": [
    "# RDD way: extract order_ids\n",
    "order_ids_rdd = sales_df.rdd.map(lambda row: row.order_id)\n",
    "print(\"First 5 order_ids (RDD):\", order_ids_rdd.take(5))\n",
    "\n",
    "# DataFrame way: select column\n",
    "sales_df.select(\"order_id\").show(5)"
   ]
  }
 ],
 "metadata": {
  "kernelspec": {
   "display_name": "Python 3 (ipykernel)",
   "language": "python",
   "name": "python3"
  },
  "language_info": {
   "codemirror_mode": {
    "name": "ipython",
    "version": 3
   },
   "file_extension": ".py",
   "mimetype": "text/x-python",
   "name": "python",
   "nbconvert_exporter": "python",
   "pygments_lexer": "ipython3",
   "version": "3.11.6"
  }
 },
 "nbformat": 4,
 "nbformat_minor": 5
}

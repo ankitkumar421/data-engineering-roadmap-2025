{
 "cells": [
  {
   "cell_type": "code",
   "execution_count": 1,
   "id": "8c01f415-6429-4baa-8c6c-df674da5f6b4",
   "metadata": {},
   "outputs": [
    {
     "name": "stdout",
     "output_type": "stream",
     "text": [
      "✅ Spark Session Created\n"
     ]
    }
   ],
   "source": [
    "from pyspark.sql import SparkSession\n",
    "\n",
    "spark = SparkSession.builder \\\n",
    "    .appName(\"Week2_Day4_SQL\") \\\n",
    "    .getOrCreate()\n",
    "\n",
    "print(\"✅ Spark Session Created\")"
   ]
  },
  {
   "cell_type": "code",
   "execution_count": 3,
   "id": "b0cd70fe-62f7-453a-830a-0db6093adedf",
   "metadata": {},
   "outputs": [
    {
     "name": "stdout",
     "output_type": "stream",
     "text": [
      "+--------+-----------+----------+--------+--------+----------+\n",
      "|order_id|customer_id|order_date| product|quantity|unit_price|\n",
      "+--------+-----------+----------+--------+--------+----------+\n",
      "|       1|       1001|2024-01-01|Widget A|       2|      9.99|\n",
      "|       2|       1002|2024-01-03|Widget B|       1|     19.99|\n",
      "|       3|       1001|2024-01-07|Widget C|       5|       4.5|\n",
      "|       4|       1003|2024-02-10|Widget A|       3|      9.99|\n",
      "|       5|       1004|2024-02-15|Widget B|       2|     19.99|\n",
      "+--------+-----------+----------+--------+--------+----------+\n",
      "only showing top 5 rows\n",
      "\n"
     ]
    }
   ],
   "source": [
    "df = spark.read.csv(\"../data/sales.csv\", header=True, inferSchema=True)\n",
    "df.show(5)"
   ]
  },
  {
   "cell_type": "code",
   "execution_count": 4,
   "id": "f00246d3-73aa-48d7-b16c-034eaaf521f8",
   "metadata": {},
   "outputs": [
    {
     "name": "stdout",
     "output_type": "stream",
     "text": [
      "✅ Temporary view 'sales' created\n"
     ]
    }
   ],
   "source": [
    "df.createOrReplaceTempView(\"sales\")\n",
    "print(\"✅ Temporary view 'sales' created\")"
   ]
  },
  {
   "cell_type": "code",
   "execution_count": 5,
   "id": "c40cb152-52ed-491b-86d1-39fc1f1d5928",
   "metadata": {},
   "outputs": [
    {
     "name": "stdout",
     "output_type": "stream",
     "text": [
      "+--------+------------------+\n",
      "| product|     total_revenue|\n",
      "+--------+------------------+\n",
      "|Widget C|              31.5|\n",
      "|Widget B|            139.93|\n",
      "|Widget A|149.85000000000002|\n",
      "|Widget D|            119.96|\n",
      "+--------+------------------+\n",
      "\n"
     ]
    }
   ],
   "source": [
    "# Total revenue by product\n",
    "query1 = spark.sql(\"\"\"\n",
    "    SELECT product, SUM(quantity * unit_price) AS total_revenue\n",
    "    FROM sales\n",
    "    GROUP BY product\n",
    "\"\"\")\n",
    "query1.show()"
   ]
  },
  {
   "cell_type": "code",
   "execution_count": 6,
   "id": "fface269-cbca-4e25-9388-ad8c9e135c04",
   "metadata": {},
   "outputs": [
    {
     "name": "stdout",
     "output_type": "stream",
     "text": [
      "+--------+-----------+--------+--------+\n",
      "|order_id|customer_id| product|quantity|\n",
      "+--------+-----------+--------+--------+\n",
      "|       3|       1001|Widget C|       5|\n",
      "|       4|       1003|Widget A|       3|\n",
      "|       7|       1005|Widget A|      10|\n",
      "|       8|       1001|Widget B|       4|\n",
      "|      10|       1007|Widget D|       3|\n",
      "+--------+-----------+--------+--------+\n",
      "\n"
     ]
    }
   ],
   "source": [
    "# Filter: Customers with orders > 2 items\n",
    "query2 = spark.sql(\"\"\"\n",
    "    SELECT order_id, customer_id, product, quantity\n",
    "    FROM sales\n",
    "    WHERE quantity > 2\n",
    "\"\"\")\n",
    "query2.show()"
   ]
  },
  {
   "cell_type": "code",
   "execution_count": 9,
   "id": "08945afa-ed3b-44f0-8738-fb76dfa32664",
   "metadata": {},
   "outputs": [
    {
     "name": "stdout",
     "output_type": "stream",
     "text": [
      "+-----------+------------------+\n",
      "|order_month|           revenue|\n",
      "+-----------+------------------+\n",
      "|    2024-01|             62.47|\n",
      "|    2024-02| 69.94999999999999|\n",
      "|    2024-03|209.85000000000002|\n",
      "|    2024-04|             98.97|\n",
      "+-----------+------------------+\n",
      "\n"
     ]
    }
   ],
   "source": [
    "# Monthly sales trend\n",
    "query3 = spark.sql(\"\"\"\n",
    "    SELECT date_format(order_date, 'yyyy-MM') AS order_month, SUM(quantity*unit_price) AS revenue\n",
    "    FROM sales\n",
    "    GROUP BY order_month\n",
    "    ORDER BY order_month\n",
    "\"\"\")\n",
    "query3.show()"
   ]
  },
  {
   "cell_type": "code",
   "execution_count": 10,
   "id": "2b250ca6-c4ba-4038-aa8b-f0eeb9477015",
   "metadata": {},
   "outputs": [
    {
     "name": "stdout",
     "output_type": "stream",
     "text": [
      "+--------+------------------+\n",
      "| product|     total_revenue|\n",
      "+--------+------------------+\n",
      "|Widget C|              31.5|\n",
      "|Widget B|            139.93|\n",
      "|Widget A|149.85000000000002|\n",
      "|Widget D|            119.96|\n",
      "+--------+------------------+\n",
      "\n",
      "+--------+-----------+--------+--------+\n",
      "|order_id|customer_id| product|quantity|\n",
      "+--------+-----------+--------+--------+\n",
      "|       3|       1001|Widget C|       5|\n",
      "|       4|       1003|Widget A|       3|\n",
      "|       7|       1005|Widget A|      10|\n",
      "|       8|       1001|Widget B|       4|\n",
      "|      10|       1007|Widget D|       3|\n",
      "+--------+-----------+--------+--------+\n",
      "\n",
      "+-----------+------------------+\n",
      "|order_month|   monthly_revenue|\n",
      "+-----------+------------------+\n",
      "|    2024-01|             62.47|\n",
      "|    2024-02| 69.94999999999999|\n",
      "|    2024-03|209.85000000000002|\n",
      "|    2024-04|             98.97|\n",
      "+-----------+------------------+\n",
      "\n"
     ]
    }
   ],
   "source": [
    "from pyspark.sql.functions import col, sum, date_format\n",
    "\n",
    "df.withColumn(\"revenue\", col(\"quantity\") * col(\"unit_price\")) \\\n",
    "  .groupBy(\"product\") \\\n",
    "  .agg(sum(\"revenue\").alias(\"total_revenue\")) \\\n",
    "  .show()\n",
    "\n",
    "df.filter(col(\"quantity\") > 2).select(\"order_id\", \"customer_id\", \"product\", \"quantity\").show()\n",
    "\n",
    "df.withColumn(\"revenue\", col(\"quantity\") * col(\"unit_price\")) \\\n",
    "  .withColumn(\"order_month\", date_format(col(\"order_date\"), \"yyyy-MM\")) \\\n",
    "  .groupBy(\"order_month\") \\\n",
    "  .agg(sum(\"revenue\").alias(\"monthly_revenue\")) \\\n",
    "  .orderBy(\"order_month\") \\\n",
    "  .show()"
   ]
  }
 ],
 "metadata": {
  "kernelspec": {
   "display_name": "Python 3 (ipykernel)",
   "language": "python",
   "name": "python3"
  },
  "language_info": {
   "codemirror_mode": {
    "name": "ipython",
    "version": 3
   },
   "file_extension": ".py",
   "mimetype": "text/x-python",
   "name": "python",
   "nbconvert_exporter": "python",
   "pygments_lexer": "ipython3",
   "version": "3.11.6"
  }
 },
 "nbformat": 4,
 "nbformat_minor": 5
}

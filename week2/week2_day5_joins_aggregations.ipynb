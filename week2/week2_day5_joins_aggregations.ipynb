{
 "cells": [
  {
   "cell_type": "code",
   "execution_count": 1,
   "id": "795c8fc9-61f7-4719-9105-dba307e95dc9",
   "metadata": {},
   "outputs": [
    {
     "name": "stdout",
     "output_type": "stream",
     "text": [
      "✅ Spark Session Created\n"
     ]
    }
   ],
   "source": [
    "from pyspark.sql import SparkSession\n",
    "\n",
    "spark = SparkSession.builder \\\n",
    "    .appName(\"Week2_Day5_Joins_Aggregations\") \\\n",
    "    .getOrCreate()\n",
    "\n",
    "print(\"✅ Spark Session Created\")"
   ]
  },
  {
   "cell_type": "code",
   "execution_count": 2,
   "id": "b9b76d82-e41c-4bcb-978f-a15971506e22",
   "metadata": {},
   "outputs": [
    {
     "name": "stdout",
     "output_type": "stream",
     "text": [
      "+--------+-----------+----------+--------+--------+----------+\n",
      "|order_id|customer_id|order_date| product|quantity|unit_price|\n",
      "+--------+-----------+----------+--------+--------+----------+\n",
      "|       1|       1001|2024-01-01|Widget A|       2|      9.99|\n",
      "|       2|       1002|2024-01-03|Widget B|       1|     19.99|\n",
      "|       3|       1001|2024-01-07|Widget C|       5|       4.5|\n",
      "|       4|       1003|2024-02-10|Widget A|       3|      9.99|\n",
      "|       5|       1004|2024-02-15|Widget B|       2|     19.99|\n",
      "+--------+-----------+----------+--------+--------+----------+\n",
      "only showing top 5 rows\n",
      "\n",
      "+-----------+-------------+------+\n",
      "|customer_id|customer_name|region|\n",
      "+-----------+-------------+------+\n",
      "|       1001|         Amit| North|\n",
      "|       1002|         Neha| South|\n",
      "|       1003|          Raj|  East|\n",
      "|       1004|        Pooja|  West|\n",
      "|       1005|        Karan| North|\n",
      "+-----------+-------------+------+\n",
      "\n"
     ]
    }
   ],
   "source": [
    "# Sales data\n",
    "sales_df = spark.read.csv(\"../data/sales.csv\", header=True, inferSchema=True)\n",
    "\n",
    "# Customer data (create a sample customers.csv if not already there)\n",
    "customers_df = spark.read.csv(\"../data/customers.csv\", header=True, inferSchema=True)\n",
    "\n",
    "sales_df.show(5)\n",
    "customers_df.show(5)"
   ]
  },
  {
   "cell_type": "code",
   "execution_count": 3,
   "id": "3036bca6-66c3-4576-b7da-e0b3bcc7869b",
   "metadata": {},
   "outputs": [
    {
     "name": "stdout",
     "output_type": "stream",
     "text": [
      "🔹 Inner Join Result:\n",
      "+-----------+--------+----------+--------+--------+----------+-------------+------+\n",
      "|customer_id|order_id|order_date| product|quantity|unit_price|customer_name|region|\n",
      "+-----------+--------+----------+--------+--------+----------+-------------+------+\n",
      "|       1001|       1|2024-01-01|Widget A|       2|      9.99|         Amit| North|\n",
      "|       1002|       2|2024-01-03|Widget B|       1|     19.99|         Neha| South|\n",
      "|       1001|       3|2024-01-07|Widget C|       5|       4.5|         Amit| North|\n",
      "|       1003|       4|2024-02-10|Widget A|       3|      9.99|          Raj|  East|\n",
      "|       1004|       5|2024-02-15|Widget B|       2|     19.99|        Pooja|  West|\n",
      "|       1002|       6|2024-03-01|Widget D|       1|     29.99|         Neha| South|\n",
      "|       1005|       7|2024-03-05|Widget A|      10|      9.99|        Karan| North|\n",
      "|       1001|       8|2024-03-20|Widget B|       4|     19.99|         Amit| North|\n",
      "+-----------+--------+----------+--------+--------+----------+-------------+------+\n",
      "\n",
      "🔹 Left Join Result:\n",
      "+-----------+--------+----------+--------+--------+----------+-------------+------+\n",
      "|customer_id|order_id|order_date| product|quantity|unit_price|customer_name|region|\n",
      "+-----------+--------+----------+--------+--------+----------+-------------+------+\n",
      "|       1001|       1|2024-01-01|Widget A|       2|      9.99|         Amit| North|\n",
      "|       1002|       2|2024-01-03|Widget B|       1|     19.99|         Neha| South|\n",
      "|       1001|       3|2024-01-07|Widget C|       5|       4.5|         Amit| North|\n",
      "|       1003|       4|2024-02-10|Widget A|       3|      9.99|          Raj|  East|\n",
      "|       1004|       5|2024-02-15|Widget B|       2|     19.99|        Pooja|  West|\n",
      "|       1002|       6|2024-03-01|Widget D|       1|     29.99|         Neha| South|\n",
      "|       1005|       7|2024-03-05|Widget A|      10|      9.99|        Karan| North|\n",
      "|       1001|       8|2024-03-20|Widget B|       4|     19.99|         Amit| North|\n",
      "|       1006|       9|2024-04-02|Widget C|       2|       4.5|         NULL|  NULL|\n",
      "|       1007|      10|2024-04-15|Widget D|       3|     29.99|         NULL|  NULL|\n",
      "+-----------+--------+----------+--------+--------+----------+-------------+------+\n",
      "\n"
     ]
    }
   ],
   "source": [
    "# Inner Join\n",
    "inner_join = sales_df.join(customers_df, on=\"customer_id\", how=\"inner\")\n",
    "print(\"🔹 Inner Join Result:\")\n",
    "inner_join.show()\n",
    "\n",
    "# Left Join\n",
    "left_join = sales_df.join(customers_df, on=\"customer_id\", how=\"left\")\n",
    "print(\"🔹 Left Join Result:\")\n",
    "left_join.show()"
   ]
  },
  {
   "cell_type": "code",
   "execution_count": 4,
   "id": "0532bbc3-44fa-4ef7-9201-329b598b00a5",
   "metadata": {},
   "outputs": [
    {
     "name": "stdout",
     "output_type": "stream",
     "text": [
      "+-------------+-------------+\n",
      "|customer_name|total_revenue|\n",
      "+-------------+-------------+\n",
      "|        Pooja|        39.98|\n",
      "|          Raj|        29.97|\n",
      "|         Amit|       122.44|\n",
      "|         Neha|        49.98|\n",
      "|        Karan|         99.9|\n",
      "+-------------+-------------+\n",
      "\n",
      "+------+------------------+\n",
      "|region|       avg_revenue|\n",
      "+------+------------------+\n",
      "| South|             24.99|\n",
      "|  East|             29.97|\n",
      "|  West|             39.98|\n",
      "| North|55.584999999999994|\n",
      "+------+------------------+\n",
      "\n"
     ]
    }
   ],
   "source": [
    "from pyspark.sql.functions import sum, avg, count, col\n",
    "\n",
    "# Total revenue per customer\n",
    "revenue_per_customer = inner_join.withColumn(\"revenue\", col(\"quantity\") * col(\"unit_price\")) \\\n",
    "    .groupBy(\"customer_name\") \\\n",
    "    .agg(sum(\"revenue\").alias(\"total_revenue\"))\n",
    "\n",
    "revenue_per_customer.show()\n",
    "\n",
    "# Average revenue per region\n",
    "avg_revenue_region = inner_join.withColumn(\"revenue\", col(\"quantity\") * col(\"unit_price\")) \\\n",
    "    .groupBy(\"region\") \\\n",
    "    .agg(avg(\"revenue\").alias(\"avg_revenue\"))\n",
    "\n",
    "avg_revenue_region.show()"
   ]
  }
 ],
 "metadata": {
  "kernelspec": {
   "display_name": "Python 3 (ipykernel)",
   "language": "python",
   "name": "python3"
  },
  "language_info": {
   "codemirror_mode": {
    "name": "ipython",
    "version": 3
   },
   "file_extension": ".py",
   "mimetype": "text/x-python",
   "name": "python",
   "nbconvert_exporter": "python",
   "pygments_lexer": "ipython3",
   "version": "3.11.6"
  }
 },
 "nbformat": 4,
 "nbformat_minor": 5
}

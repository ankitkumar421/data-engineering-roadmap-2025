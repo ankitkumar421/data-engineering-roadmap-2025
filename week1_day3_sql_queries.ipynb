{
 "cells": [
  {
   "cell_type": "code",
   "execution_count": 1,
   "id": "53831807-f657-4e58-9340-99ce1d2fae5f",
   "metadata": {},
   "outputs": [
    {
     "data": {
      "text/html": [
       "<div>\n",
       "<style scoped>\n",
       "    .dataframe tbody tr th:only-of-type {\n",
       "        vertical-align: middle;\n",
       "    }\n",
       "\n",
       "    .dataframe tbody tr th {\n",
       "        vertical-align: top;\n",
       "    }\n",
       "\n",
       "    .dataframe thead th {\n",
       "        text-align: right;\n",
       "    }\n",
       "</style>\n",
       "<table border=\"1\" class=\"dataframe\">\n",
       "  <thead>\n",
       "    <tr style=\"text-align: right;\">\n",
       "      <th></th>\n",
       "      <th>order_id</th>\n",
       "      <th>customer_id</th>\n",
       "      <th>order_date</th>\n",
       "      <th>product</th>\n",
       "      <th>quantity</th>\n",
       "      <th>unit_price</th>\n",
       "      <th>revenue</th>\n",
       "      <th>order_month</th>\n",
       "    </tr>\n",
       "  </thead>\n",
       "  <tbody>\n",
       "    <tr>\n",
       "      <th>0</th>\n",
       "      <td>1</td>\n",
       "      <td>1001</td>\n",
       "      <td>2024-01-01 00:00:00.000000</td>\n",
       "      <td>Widget A</td>\n",
       "      <td>2</td>\n",
       "      <td>9.99</td>\n",
       "      <td>19.98</td>\n",
       "      <td>2024-01</td>\n",
       "    </tr>\n",
       "    <tr>\n",
       "      <th>1</th>\n",
       "      <td>2</td>\n",
       "      <td>1002</td>\n",
       "      <td>2024-01-03 00:00:00.000000</td>\n",
       "      <td>Widget B</td>\n",
       "      <td>1</td>\n",
       "      <td>19.99</td>\n",
       "      <td>19.99</td>\n",
       "      <td>2024-01</td>\n",
       "    </tr>\n",
       "    <tr>\n",
       "      <th>2</th>\n",
       "      <td>3</td>\n",
       "      <td>1001</td>\n",
       "      <td>2024-01-07 00:00:00.000000</td>\n",
       "      <td>Widget C</td>\n",
       "      <td>5</td>\n",
       "      <td>4.50</td>\n",
       "      <td>22.50</td>\n",
       "      <td>2024-01</td>\n",
       "    </tr>\n",
       "    <tr>\n",
       "      <th>3</th>\n",
       "      <td>4</td>\n",
       "      <td>1003</td>\n",
       "      <td>2024-02-10 00:00:00.000000</td>\n",
       "      <td>Widget A</td>\n",
       "      <td>3</td>\n",
       "      <td>9.99</td>\n",
       "      <td>29.97</td>\n",
       "      <td>2024-02</td>\n",
       "    </tr>\n",
       "    <tr>\n",
       "      <th>4</th>\n",
       "      <td>5</td>\n",
       "      <td>1004</td>\n",
       "      <td>2024-02-15 00:00:00.000000</td>\n",
       "      <td>Widget B</td>\n",
       "      <td>2</td>\n",
       "      <td>19.99</td>\n",
       "      <td>39.98</td>\n",
       "      <td>2024-02</td>\n",
       "    </tr>\n",
       "  </tbody>\n",
       "</table>\n",
       "</div>"
      ],
      "text/plain": [
       "   order_id  customer_id                  order_date   product  quantity  \\\n",
       "0         1         1001  2024-01-01 00:00:00.000000  Widget A         2   \n",
       "1         2         1002  2024-01-03 00:00:00.000000  Widget B         1   \n",
       "2         3         1001  2024-01-07 00:00:00.000000  Widget C         5   \n",
       "3         4         1003  2024-02-10 00:00:00.000000  Widget A         3   \n",
       "4         5         1004  2024-02-15 00:00:00.000000  Widget B         2   \n",
       "\n",
       "   unit_price  revenue order_month  \n",
       "0        9.99    19.98     2024-01  \n",
       "1       19.99    19.99     2024-01  \n",
       "2        4.50    22.50     2024-01  \n",
       "3        9.99    29.97     2024-02  \n",
       "4       19.99    39.98     2024-02  "
      ]
     },
     "execution_count": 1,
     "metadata": {},
     "output_type": "execute_result"
    }
   ],
   "source": [
    "import pandas as pd\n",
    "from sqlalchemy import create_engine\n",
    "\n",
    "# Connect to SQLite DB\n",
    "engine = create_engine(\"sqlite:///week1/sales_db.sqlite\")\n",
    "\n",
    "# Test by loading first 5 rows\n",
    "df = pd.read_sql(\"SELECT * FROM sales LIMIT 5;\", engine)\n",
    "df"
   ]
  },
  {
   "cell_type": "code",
   "execution_count": 2,
   "id": "483980f5-532e-48af-8bb1-6effc7ffae80",
   "metadata": {},
   "outputs": [
    {
     "data": {
      "text/html": [
       "<div>\n",
       "<style scoped>\n",
       "    .dataframe tbody tr th:only-of-type {\n",
       "        vertical-align: middle;\n",
       "    }\n",
       "\n",
       "    .dataframe tbody tr th {\n",
       "        vertical-align: top;\n",
       "    }\n",
       "\n",
       "    .dataframe thead th {\n",
       "        text-align: right;\n",
       "    }\n",
       "</style>\n",
       "<table border=\"1\" class=\"dataframe\">\n",
       "  <thead>\n",
       "    <tr style=\"text-align: right;\">\n",
       "      <th></th>\n",
       "      <th>total_revenue</th>\n",
       "    </tr>\n",
       "  </thead>\n",
       "  <tbody>\n",
       "    <tr>\n",
       "      <th>0</th>\n",
       "      <td>441.24</td>\n",
       "    </tr>\n",
       "  </tbody>\n",
       "</table>\n",
       "</div>"
      ],
      "text/plain": [
       "   total_revenue\n",
       "0         441.24"
      ]
     },
     "execution_count": 2,
     "metadata": {},
     "output_type": "execute_result"
    }
   ],
   "source": [
    "query = \"\"\"\n",
    "SELECT SUM(revenue) AS total_revenue\n",
    "FROM sales;\n",
    "\"\"\"\n",
    "result = pd.read_sql(query, engine)\n",
    "result"
   ]
  },
  {
   "cell_type": "code",
   "execution_count": 3,
   "id": "c342cc31-f25d-48a6-a60e-e16b2b3034bc",
   "metadata": {},
   "outputs": [
    {
     "data": {
      "text/html": [
       "<div>\n",
       "<style scoped>\n",
       "    .dataframe tbody tr th:only-of-type {\n",
       "        vertical-align: middle;\n",
       "    }\n",
       "\n",
       "    .dataframe tbody tr th {\n",
       "        vertical-align: top;\n",
       "    }\n",
       "\n",
       "    .dataframe thead th {\n",
       "        text-align: right;\n",
       "    }\n",
       "</style>\n",
       "<table border=\"1\" class=\"dataframe\">\n",
       "  <thead>\n",
       "    <tr style=\"text-align: right;\">\n",
       "      <th></th>\n",
       "      <th>customer_id</th>\n",
       "      <th>total_revenue</th>\n",
       "    </tr>\n",
       "  </thead>\n",
       "  <tbody>\n",
       "    <tr>\n",
       "      <th>0</th>\n",
       "      <td>1001</td>\n",
       "      <td>122.44</td>\n",
       "    </tr>\n",
       "    <tr>\n",
       "      <th>1</th>\n",
       "      <td>1005</td>\n",
       "      <td>99.90</td>\n",
       "    </tr>\n",
       "    <tr>\n",
       "      <th>2</th>\n",
       "      <td>1007</td>\n",
       "      <td>89.97</td>\n",
       "    </tr>\n",
       "    <tr>\n",
       "      <th>3</th>\n",
       "      <td>1002</td>\n",
       "      <td>49.98</td>\n",
       "    </tr>\n",
       "    <tr>\n",
       "      <th>4</th>\n",
       "      <td>1004</td>\n",
       "      <td>39.98</td>\n",
       "    </tr>\n",
       "  </tbody>\n",
       "</table>\n",
       "</div>"
      ],
      "text/plain": [
       "   customer_id  total_revenue\n",
       "0         1001         122.44\n",
       "1         1005          99.90\n",
       "2         1007          89.97\n",
       "3         1002          49.98\n",
       "4         1004          39.98"
      ]
     },
     "execution_count": 3,
     "metadata": {},
     "output_type": "execute_result"
    }
   ],
   "source": [
    "query = \"\"\"\n",
    "SELECT customer_id, SUM(revenue) AS total_revenue\n",
    "FROM sales\n",
    "GROUP BY customer_id\n",
    "ORDER BY total_revenue DESC\n",
    "LIMIT 5;\n",
    "\"\"\"\n",
    "result = pd.read_sql(query, engine)\n",
    "result\n"
   ]
  },
  {
   "cell_type": "code",
   "execution_count": 4,
   "id": "14f74831-e4d5-45db-9912-833d072f91e1",
   "metadata": {},
   "outputs": [
    {
     "data": {
      "text/html": [
       "<div>\n",
       "<style scoped>\n",
       "    .dataframe tbody tr th:only-of-type {\n",
       "        vertical-align: middle;\n",
       "    }\n",
       "\n",
       "    .dataframe tbody tr th {\n",
       "        vertical-align: top;\n",
       "    }\n",
       "\n",
       "    .dataframe thead th {\n",
       "        text-align: right;\n",
       "    }\n",
       "</style>\n",
       "<table border=\"1\" class=\"dataframe\">\n",
       "  <thead>\n",
       "    <tr style=\"text-align: right;\">\n",
       "      <th></th>\n",
       "      <th>order_month</th>\n",
       "      <th>monthly_revenue</th>\n",
       "    </tr>\n",
       "  </thead>\n",
       "  <tbody>\n",
       "    <tr>\n",
       "      <th>0</th>\n",
       "      <td>2024-01</td>\n",
       "      <td>62.47</td>\n",
       "    </tr>\n",
       "    <tr>\n",
       "      <th>1</th>\n",
       "      <td>2024-02</td>\n",
       "      <td>69.95</td>\n",
       "    </tr>\n",
       "    <tr>\n",
       "      <th>2</th>\n",
       "      <td>2024-03</td>\n",
       "      <td>209.85</td>\n",
       "    </tr>\n",
       "    <tr>\n",
       "      <th>3</th>\n",
       "      <td>2024-04</td>\n",
       "      <td>98.97</td>\n",
       "    </tr>\n",
       "  </tbody>\n",
       "</table>\n",
       "</div>"
      ],
      "text/plain": [
       "  order_month  monthly_revenue\n",
       "0     2024-01            62.47\n",
       "1     2024-02            69.95\n",
       "2     2024-03           209.85\n",
       "3     2024-04            98.97"
      ]
     },
     "execution_count": 4,
     "metadata": {},
     "output_type": "execute_result"
    }
   ],
   "source": [
    "query = \"\"\"\n",
    "SELECT order_month, SUM(revenue) AS monthly_revenue\n",
    "FROM sales\n",
    "GROUP BY order_month\n",
    "ORDER BY order_month;\n",
    "\"\"\"\n",
    "result = pd.read_sql(query, engine)\n",
    "result\n"
   ]
  },
  {
   "cell_type": "code",
   "execution_count": 5,
   "id": "8e8ac485-c5d5-4d3d-91a9-2232849a9afa",
   "metadata": {},
   "outputs": [
    {
     "data": {
      "text/plain": [
       "order_month\n",
       "2024-01     62.47\n",
       "2024-02     69.95\n",
       "2024-03    209.85\n",
       "2024-04     98.97\n",
       "Name: revenue, dtype: float64"
      ]
     },
     "execution_count": 5,
     "metadata": {},
     "output_type": "execute_result"
    }
   ],
   "source": [
    "# Pandas calculation\n",
    "pandas_monthly = pd.read_sql(\"SELECT * FROM sales;\", engine)\n",
    "pandas_monthly.groupby(\"order_month\")[\"revenue\"].sum()\n"
   ]
  }
 ],
 "metadata": {
  "kernelspec": {
   "display_name": "Python (venv)",
   "language": "python",
   "name": "venv"
  },
  "language_info": {
   "codemirror_mode": {
    "name": "ipython",
    "version": 3
   },
   "file_extension": ".py",
   "mimetype": "text/x-python",
   "name": "python",
   "nbconvert_exporter": "python",
   "pygments_lexer": "ipython3",
   "version": "3.13.7"
  }
 },
 "nbformat": 4,
 "nbformat_minor": 5
}
